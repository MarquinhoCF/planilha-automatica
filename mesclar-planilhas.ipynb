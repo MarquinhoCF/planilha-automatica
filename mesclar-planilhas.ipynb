{
 "cells": [
  {
   "cell_type": "markdown",
   "metadata": {},
   "source": [
    "# Mesclar planilhas"
   ]
  },
  {
   "cell_type": "code",
   "execution_count": 3,
   "metadata": {},
   "outputs": [],
   "source": [
    "from openpyxl import Workbook, load_workbook\n",
    "\n",
    "nomeArquivo1 = \"Exemplo planilha da transportadora.xlsx\"\n",
    "nomeArquivo2 = \"Exmplo planilha Verde Campo.xlsx\"\n",
    "\n",
    "planilha1 = load_workbook(nomeArquivo1)\n",
    "\n",
    "aba_ativa_p1 = planilha1.active\n",
    "\n",
    "planilha2 = load_workbook(nomeArquivo2)\n",
    "\n",
    "aba_ativa_p2 = planilha2[\"01\"]\n",
    "\n",
    "for celula in aba_ativa_p1[\"C\"]:\n",
    "    linha = celula.row\n",
    "    if linha != 1:\n",
    "        nf = aba_ativa_p1[f\"D{linha}\"].value\n",
    "        for celula2 in aba_ativa_p2[\"D\"]:\n",
    "            linha2 = celula2.row\n",
    "            if linha2 != 1:\n",
    "                if nf == aba_ativa_p2[f\"D{linha2}\"].value:\n",
    "                    aba_ativa_p2[f\"J{linha2}\"] = aba_ativa_p1[f\"C{linha}\"].value\n",
    "                else:\n",
    "                    aba_ativa_p2[f\"J{linha2}\"] = \"\"\n",
    "\n",
    "planilha2.save(\"Planilha atualizada.xlsx\")"
   ]
  },
  {
   "cell_type": "code",
   "execution_count": 38,
   "metadata": {},
   "outputs": [
    {
     "data": {
      "text/plain": [
       "[<Worksheet \"01\">,\n",
       " <Worksheet \"Performance\">,\n",
       " <Worksheet \"Exportacao\">,\n",
       " <Worksheet \"Datas\">,\n",
       " <Worksheet \"Base\">]"
      ]
     },
     "execution_count": 38,
     "metadata": {},
     "output_type": "execute_result"
    }
   ],
   "source": [
    "planilha2.worksheets"
   ]
  }
 ],
 "metadata": {
  "interpreter": {
   "hash": "369f2c481f4da34e4445cda3fffd2e751bd1c4d706f27375911949ba6bb62e1c"
  },
  "kernelspec": {
   "display_name": "Python 3.10.4 64-bit",
   "language": "python",
   "name": "python3"
  },
  "language_info": {
   "codemirror_mode": {
    "name": "ipython",
    "version": 3
   },
   "file_extension": ".py",
   "mimetype": "text/x-python",
   "name": "python",
   "nbconvert_exporter": "python",
   "pygments_lexer": "ipython3",
   "version": "3.10.4"
  },
  "orig_nbformat": 4
 },
 "nbformat": 4,
 "nbformat_minor": 2
}
