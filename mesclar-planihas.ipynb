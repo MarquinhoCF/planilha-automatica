{
 "cells": [
  {
   "cell_type": "markdown",
   "metadata": {},
   "source": [
    "# Mesclar planilhas"
   ]
  },
  {
   "cell_type": "code",
   "execution_count": 48,
   "metadata": {},
   "outputs": [
    {
     "ename": "KeyboardInterrupt",
     "evalue": "",
     "output_type": "error",
     "traceback": [
      "\u001b[1;31m---------------------------------------------------------------------------\u001b[0m",
      "\u001b[1;31mKeyboardInterrupt\u001b[0m                         Traceback (most recent call last)",
      "\u001b[1;32mc:\\Users\\User\\Desktop\\planilha-automatica\\mesclar-planihas.ipynb Cell 2'\u001b[0m in \u001b[0;36m<cell line: 14>\u001b[1;34m()\u001b[0m\n\u001b[0;32m     <a href='vscode-notebook-cell:/c%3A/Users/User/Desktop/planilha-automatica/mesclar-planihas.ipynb#ch0000001?line=16'>17</a>\u001b[0m         nf \u001b[39m=\u001b[39m aba_ativa_p1[\u001b[39mf\u001b[39m\u001b[39m\"\u001b[39m\u001b[39mD\u001b[39m\u001b[39m{\u001b[39;00mlinha\u001b[39m}\u001b[39;00m\u001b[39m\"\u001b[39m]\u001b[39m.\u001b[39mvalue\n\u001b[0;32m     <a href='vscode-notebook-cell:/c%3A/Users/User/Desktop/planilha-automatica/mesclar-planihas.ipynb#ch0000001?line=17'>18</a>\u001b[0m         \u001b[39mwhile\u001b[39;00m(nf \u001b[39m!=\u001b[39m aba_ativa_p2[\u001b[39mf\u001b[39m\u001b[39m\"\u001b[39m\u001b[39mD\u001b[39m\u001b[39m{\u001b[39;00mlinha\u001b[39m}\u001b[39;00m\u001b[39m\"\u001b[39m]\u001b[39m.\u001b[39mvalue):\n\u001b[1;32m---> <a href='vscode-notebook-cell:/c%3A/Users/User/Desktop/planilha-automatica/mesclar-planihas.ipynb#ch0000001?line=18'>19</a>\u001b[0m             aba_ativa_p2[\u001b[39mf\u001b[39m\u001b[39m\"\u001b[39m\u001b[39mJ\u001b[39m\u001b[39m{\u001b[39;00mlinha\u001b[39m}\u001b[39;00m\u001b[39m\"\u001b[39m] \u001b[39m=\u001b[39m aba_ativa_p1[\u001b[39mf\u001b[39m\u001b[39m\"\u001b[39m\u001b[39mC\u001b[39m\u001b[39m{\u001b[39;00mlinha\u001b[39m}\u001b[39;00m\u001b[39m\"\u001b[39m]\u001b[39m.\u001b[39mvalue\n\u001b[0;32m     <a href='vscode-notebook-cell:/c%3A/Users/User/Desktop/planilha-automatica/mesclar-planihas.ipynb#ch0000001?line=20'>21</a>\u001b[0m planilha2\u001b[39m.\u001b[39msave(\u001b[39m\"\u001b[39m\u001b[39mPlanilha atualizada.xlsx\u001b[39m\u001b[39m\"\u001b[39m)\n",
      "File \u001b[1;32mc:\\Python310\\lib\\site-packages\\openpyxl\\worksheet\\worksheet.py:313\u001b[0m, in \u001b[0;36mWorksheet.__setitem__\u001b[1;34m(self, key, value)\u001b[0m\n\u001b[0;32m    <a href='file:///c%3A/Python310/lib/site-packages/openpyxl/worksheet/worksheet.py?line=311'>312</a>\u001b[0m \u001b[39mdef\u001b[39;00m \u001b[39m__setitem__\u001b[39m(\u001b[39mself\u001b[39m, key, value):\n\u001b[1;32m--> <a href='file:///c%3A/Python310/lib/site-packages/openpyxl/worksheet/worksheet.py?line=312'>313</a>\u001b[0m     \u001b[39mself\u001b[39m[key]\u001b[39m.\u001b[39mvalue \u001b[39m=\u001b[39m value\n",
      "File \u001b[1;32mc:\\Python310\\lib\\site-packages\\openpyxl\\cell\\cell.py:215\u001b[0m, in \u001b[0;36mCell.value\u001b[1;34m(self, value)\u001b[0m\n\u001b[0;32m    <a href='file:///c%3A/Python310/lib/site-packages/openpyxl/cell/cell.py?line=211'>212</a>\u001b[0m \u001b[39m@value\u001b[39m\u001b[39m.\u001b[39msetter\n\u001b[0;32m    <a href='file:///c%3A/Python310/lib/site-packages/openpyxl/cell/cell.py?line=212'>213</a>\u001b[0m \u001b[39mdef\u001b[39;00m \u001b[39mvalue\u001b[39m(\u001b[39mself\u001b[39m, value):\n\u001b[0;32m    <a href='file:///c%3A/Python310/lib/site-packages/openpyxl/cell/cell.py?line=213'>214</a>\u001b[0m     \u001b[39m\"\"\"Set the value and infer type and display options.\"\"\"\u001b[39;00m\n\u001b[1;32m--> <a href='file:///c%3A/Python310/lib/site-packages/openpyxl/cell/cell.py?line=214'>215</a>\u001b[0m     \u001b[39mself\u001b[39;49m\u001b[39m.\u001b[39;49m_bind_value(value)\n",
      "File \u001b[1;32mc:\\Python310\\lib\\site-packages\\openpyxl\\cell\\cell.py:190\u001b[0m, in \u001b[0;36mCell._bind_value\u001b[1;34m(self, value)\u001b[0m\n\u001b[0;32m    <a href='file:///c%3A/Python310/lib/site-packages/openpyxl/cell/cell.py?line=186'>187</a>\u001b[0m     \u001b[39mself\u001b[39m\u001b[39m.\u001b[39mdata_type \u001b[39m=\u001b[39m dt\n\u001b[0;32m    <a href='file:///c%3A/Python310/lib/site-packages/openpyxl/cell/cell.py?line=188'>189</a>\u001b[0m \u001b[39mif\u001b[39;00m dt \u001b[39m==\u001b[39m \u001b[39m'\u001b[39m\u001b[39md\u001b[39m\u001b[39m'\u001b[39m:\n\u001b[1;32m--> <a href='file:///c%3A/Python310/lib/site-packages/openpyxl/cell/cell.py?line=189'>190</a>\u001b[0m     \u001b[39mif\u001b[39;00m \u001b[39mnot\u001b[39;00m is_date_format(\u001b[39mself\u001b[39;49m\u001b[39m.\u001b[39;49mnumber_format):\n\u001b[0;32m    <a href='file:///c%3A/Python310/lib/site-packages/openpyxl/cell/cell.py?line=190'>191</a>\u001b[0m         \u001b[39mself\u001b[39m\u001b[39m.\u001b[39mnumber_format \u001b[39m=\u001b[39m get_time_format(t)\n\u001b[0;32m    <a href='file:///c%3A/Python310/lib/site-packages/openpyxl/cell/cell.py?line=192'>193</a>\u001b[0m \u001b[39melif\u001b[39;00m dt \u001b[39m==\u001b[39m \u001b[39m\"\u001b[39m\u001b[39ms\u001b[39m\u001b[39m\"\u001b[39m:\n",
      "File \u001b[1;32mc:\\Python310\\lib\\site-packages\\openpyxl\\styles\\numbers.py:109\u001b[0m, in \u001b[0;36mis_date_format\u001b[1;34m(fmt)\u001b[0m\n\u001b[0;32m    <a href='file:///c%3A/Python310/lib/site-packages/openpyxl/styles/numbers.py?line=106'>107</a>\u001b[0m fmt \u001b[39m=\u001b[39m fmt\u001b[39m.\u001b[39msplit(\u001b[39m\"\u001b[39m\u001b[39m;\u001b[39m\u001b[39m\"\u001b[39m)[\u001b[39m0\u001b[39m] \u001b[39m# only look at the first format\u001b[39;00m\n\u001b[0;32m    <a href='file:///c%3A/Python310/lib/site-packages/openpyxl/styles/numbers.py?line=107'>108</a>\u001b[0m fmt \u001b[39m=\u001b[39m STRIP_RE\u001b[39m.\u001b[39msub(\u001b[39m\"\u001b[39m\u001b[39m\"\u001b[39m, fmt) \u001b[39m# ignore some formats\u001b[39;00m\n\u001b[1;32m--> <a href='file:///c%3A/Python310/lib/site-packages/openpyxl/styles/numbers.py?line=108'>109</a>\u001b[0m \u001b[39mreturn\u001b[39;00m re\u001b[39m.\u001b[39;49msearch(\u001b[39mr\u001b[39;49m\u001b[39m\"\u001b[39;49m\u001b[39m[^\u001b[39;49m\u001b[39m\\\\\u001b[39;49;00m\u001b[39m][dmhysDMHYS]\u001b[39;49m\u001b[39m\"\u001b[39;49m, fmt) \u001b[39mis\u001b[39;00m \u001b[39mnot\u001b[39;00m \u001b[39mNone\u001b[39;00m\n",
      "File \u001b[1;32mc:\\Python310\\lib\\re.py:197\u001b[0m, in \u001b[0;36msearch\u001b[1;34m(pattern, string, flags)\u001b[0m\n\u001b[0;32m    <a href='file:///c%3A/Python310/lib/re.py?line=192'>193</a>\u001b[0m     \u001b[39m\"\"\"Try to apply the pattern to all of the string, returning\u001b[39;00m\n\u001b[0;32m    <a href='file:///c%3A/Python310/lib/re.py?line=193'>194</a>\u001b[0m \u001b[39m    a Match object, or None if no match was found.\"\"\"\u001b[39;00m\n\u001b[0;32m    <a href='file:///c%3A/Python310/lib/re.py?line=194'>195</a>\u001b[0m     \u001b[39mreturn\u001b[39;00m _compile(pattern, flags)\u001b[39m.\u001b[39mfullmatch(string)\n\u001b[1;32m--> <a href='file:///c%3A/Python310/lib/re.py?line=196'>197</a>\u001b[0m \u001b[39mdef\u001b[39;00m \u001b[39msearch\u001b[39m(pattern, string, flags\u001b[39m=\u001b[39m\u001b[39m0\u001b[39m):\n\u001b[0;32m    <a href='file:///c%3A/Python310/lib/re.py?line=197'>198</a>\u001b[0m     \u001b[39m\"\"\"Scan through string looking for a match to the pattern, returning\u001b[39;00m\n\u001b[0;32m    <a href='file:///c%3A/Python310/lib/re.py?line=198'>199</a>\u001b[0m \u001b[39m    a Match object, or None if no match was found.\"\"\"\u001b[39;00m\n\u001b[0;32m    <a href='file:///c%3A/Python310/lib/re.py?line=199'>200</a>\u001b[0m     \u001b[39mreturn\u001b[39;00m _compile(pattern, flags)\u001b[39m.\u001b[39msearch(string)\n",
      "\u001b[1;31mKeyboardInterrupt\u001b[0m: "
     ]
    }
   ],
   "source": [
    "from openpyxl import Workbook, load_workbook\n",
    "\n",
    "nomeArquivo1 = \"Exemplo planilha da transportadora.xlsx\"\n",
    "nomeArquivo2 = \"Exmplo planilha Verde Campo.xlsx\"\n",
    "\n",
    "planilha1 = load_workbook(nomeArquivo1)\n",
    "\n",
    "aba_ativa_p1 = planilha1.active\n",
    "\n",
    "planilha2 = load_workbook(nomeArquivo2)\n",
    "\n",
    "aba_ativa_p2 = planilha2[\"01\"]\n",
    "\n",
    "for celula in aba_ativa_p1[\"C\"]:\n",
    "    linha = celula.row\n",
    "    if linha != 1:\n",
    "        if aba_ativa_p1[f\"D{linha}\"].value == aba_ativa_p2[f\"D{linha}\"].value:\n",
    "            aba_ativa_p2[f\"J{linha}\"] = aba_ativa_p1[f\"C{linha}\"].value\n",
    "        else:\n",
    "            aba_ativa_p2[f\"J{linha}\"] = \"\"\n",
    "\n",
    "planilha2.save(\"Planilha atualizada.xlsx\")"
   ]
  },
  {
   "cell_type": "code",
   "execution_count": 38,
   "metadata": {},
   "outputs": [
    {
     "data": {
      "text/plain": [
       "[<Worksheet \"01\">,\n",
       " <Worksheet \"Performance\">,\n",
       " <Worksheet \"Exportacao\">,\n",
       " <Worksheet \"Datas\">,\n",
       " <Worksheet \"Base\">]"
      ]
     },
     "execution_count": 38,
     "metadata": {},
     "output_type": "execute_result"
    }
   ],
   "source": [
    "planilha2.worksheets"
   ]
  }
 ],
 "metadata": {
  "interpreter": {
   "hash": "369f2c481f4da34e4445cda3fffd2e751bd1c4d706f27375911949ba6bb62e1c"
  },
  "kernelspec": {
   "display_name": "Python 3.10.4 64-bit",
   "language": "python",
   "name": "python3"
  },
  "language_info": {
   "codemirror_mode": {
    "name": "ipython",
    "version": 3
   },
   "file_extension": ".py",
   "mimetype": "text/x-python",
   "name": "python",
   "nbconvert_exporter": "python",
   "pygments_lexer": "ipython3",
   "version": "3.10.4"
  },
  "orig_nbformat": 4
 },
 "nbformat": 4,
 "nbformat_minor": 2
}
